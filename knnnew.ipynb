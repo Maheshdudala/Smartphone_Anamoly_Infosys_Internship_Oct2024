{
 "cells": [
  {
   "cell_type": "code",
   "execution_count": null,
   "id": "834871a2",
   "metadata": {},
   "outputs": [],
   "source": [
    "from sklearn.neighbors import KNeighborsClassifier\n",
    "from sklearn.model_selection import GridSearchCV\n",
    "from sklearn.metrics import accuracy_score, precision_score, recall_score, f1_score\n",
    "\n",
    "# Hyperparameter tuning\n",
    "param_grid_knn = {\n",
    "    'n_neighbors': [5, 10, 15],  # Number of neighbors\n",
    "    'weights': ['uniform', 'distance'],  # Weight function\n",
    "    'p': [1, 2]  # Distance metric: 1 for Manhattan, 2 for Euclidean\n",
    "}\n",
    "\n",
    "knn = KNeighborsClassifier()\n",
    "grid_knn = GridSearchCV(knn, param_grid_knn, cv=2, scoring='accuracy')\n",
    "grid_knn.fit(X_original_scaled, y_original)\n",
    "\n",
    "# Best estimator evaluation\n",
    "best_knn = grid_knn.best_estimator_\n",
    "print(\"Best KNN Parameters:\", grid_knn.best_params_)\n",
    "\n",
    "# Evaluate on original dataset\n",
    "y_pred_original = best_knn.predict(X_original_scaled)\n",
    "print(\"\\nK-Nearest Neighbors on Original Dataset\")\n",
    "print(\"Accuracy:\", accuracy_score(y_original, y_pred_original))\n",
    "print(\"Precision:\", precision_score(y_original, y_pred_original, zero_division=0))\n",
    "print(\"Recall:\", recall_score(y_original, y_pred_original))\n",
    "print(\"F1 Score:\", f1_score(y_original, y_pred_original))\n",
    "\n",
    "# Evaluate on augmented dataset\n",
    "y_pred_augmented = best_knn.predict(X_augmented_scaled)\n",
    "print(\"\\nK-Nearest Neighbors on Augmented Dataset\")\n",
    "print(\"Accuracy:\", accuracy_score(y_augmented, y_pred_augmented))\n",
    "print(\"Precision:\", precision_score(y_augmented, y_pred_augmented, zero_division=0))\n",
    "print(\"Recall:\", recall_score(y_augmented, y_pred_augmented))\n",
    "print(\"F1 Score:\", f1_score(y_augmented, y_pred_augmented))\n",
    "\n",
    "\n"
   ]
  }
 ],
 "metadata": {
  "kernelspec": {
   "display_name": "Python 3 (ipykernel)",
   "language": "python",
   "name": "python3"
  },
  "language_info": {
   "codemirror_mode": {
    "name": "ipython",
    "version": 3
   },
   "file_extension": ".py",
   "mimetype": "text/x-python",
   "name": "python",
   "nbconvert_exporter": "python",
   "pygments_lexer": "ipython3",
   "version": "3.11.3"
  }
 },
 "nbformat": 4,
 "nbformat_minor": 5
}
