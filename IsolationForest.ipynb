{
 "cells": [
  {
   "cell_type": "code",
   "execution_count": 1,
   "id": "1af4b28c-d54f-4400-8c78-7d447c53b1b2",
   "metadata": {},
   "outputs": [
    {
     "name": "stdout",
     "output_type": "stream",
     "text": [
      "Isolation Forest Anomalies Detected:\n",
      "IsoForest_Anomaly\n",
      "0    14249\n",
      "Name: count, dtype: int64\n"
     ]
    }
   ],
   "source": [
    "import pandas as pd\n",
    "import numpy as np\n",
    "from sklearn.ensemble import IsolationForest\n",
    "\n",
    "data_path = 'final_adjusted_crowd_dataset.csv'\n",
    "df = pd.read_csv(data_path)\n",
    "\n",
    "df = pd.get_dummies(df, drop_first=True)\n",
    "df = df.dropna()\n",
    "\n",
    "X = df.drop(columns=['label'])\n",
    "\n",
    "iso_forest = IsolationForest(contamination='auto', random_state=42)\n",
    "iso_forest.fit(X)\n",
    "\n",
    "df['IsoForest_Anomaly'] = iso_forest.predict(X)\n",
    "df['IsoForest_Anomaly'] = np.where(df['IsoForest_Anomaly'] == -1, 1, 0)\n",
    "\n",
    "print(\"Isolation Forest Anomalies Detected:\")\n",
    "print(df['IsoForest_Anomaly'].value_counts())\n"
   ]
  },
  {
   "cell_type": "code",
   "execution_count": null,
   "id": "1b49b841-f2b5-4d5c-87c7-d12f0474d09b",
   "metadata": {},
   "outputs": [],
   "source": []
  }
 ],
 "metadata": {
  "kernelspec": {
   "display_name": "Python 3 (ipykernel)",
   "language": "python",
   "name": "python3"
  },
  "language_info": {
   "codemirror_mode": {
    "name": "ipython",
    "version": 3
   },
   "file_extension": ".py",
   "mimetype": "text/x-python",
   "name": "python",
   "nbconvert_exporter": "python",
   "pygments_lexer": "ipython3",
   "version": "3.12.4"
  }
 },
 "nbformat": 4,
 "nbformat_minor": 5
}
