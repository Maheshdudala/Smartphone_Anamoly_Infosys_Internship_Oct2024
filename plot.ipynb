{
 "cells": [
  {
   "cell_type": "code",
   "execution_count": null,
   "id": "8fba2586-99c2-42e9-b6f5-4ebe048896c7",
   "metadata": {},
   "outputs": [],
   "source": [
    "import matplotlib.pyplot as plt\n",
    "import seaborn as sns\n",
    "\n",
    "# Plot Total_Acc vs Gyro_Magnitude to visualize anomalies\n",
    "plt.figure(figsize=(10, 6))\n",
    "sns.scatterplot(data=df_synthetic, x='Total_Acc', y='Gyro_Magnitude', hue='IsoForest_Synthetic_Anomaly', palette='coolwarm')\n",
    "plt.title('Visualization of Synthetic Anomalies Detected by Isolation Forest')\n",
    "plt.xlabel('Total Acceleration')\n",
    "plt.ylabel('Gyro Magnitude')\n",
    "plt.legend(title=\"Anomaly Detection\")\n",
    "plt.show()\n"
   ]
  }
 ],
 "metadata": {
  "kernelspec": {
   "display_name": "Python 3 (ipykernel)",
   "language": "python",
   "name": "python3"
  },
  "language_info": {
   "codemirror_mode": {
    "name": "ipython",
    "version": 3
   },
   "file_extension": ".py",
   "mimetype": "text/x-python",
   "name": "python",
   "nbconvert_exporter": "python",
   "pygments_lexer": "ipython3",
   "version": "3.12.4"
  }
 },
 "nbformat": 4,
 "nbformat_minor": 5
}
