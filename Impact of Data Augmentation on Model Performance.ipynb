{
 "cells": [
  {
   "cell_type": "code",
   "execution_count": null,
   "id": "3e1d4539",
   "metadata": {},
   "outputs": [],
   "source": [
    "# Separate data by 'Dataset' type\n",
    "original_data = df_performance[df_performance[\"Dataset\"] == \"Original\"]\n",
    "augmented_data = df_performance[df_performance[\"Dataset\"] == \"Augmented\"]\n",
    "\n",
    "# Define width and x locations for grouped bar chart\n",
    "width = 0.2\n",
    "x = np.arange(len(original_data[\"Model\"]))  # label locations\n",
    "metrics = [\"Accuracy\", \"Precision\", \"Recall\", \"F1 Score\"]\n",
    "\n",
    "# Set up figure and axis\n",
    "fig, ax = plt.subplots(figsize=(12, 8))\n",
    "\n",
    "# Plot each metric for both datasets\n",
    "for i, metric in enumerate(metrics):\n",
    "    ax.bar(x - width * 1.5 + i * width, original_data[metric], width, label=f\"{metric} (Original)\")\n",
    "    ax.bar(x + width * 1.5 + i * width, augmented_data[metric], width, label=f\"{metric} (Augmented)\")\n",
    "\n",
    "# Label adjustments and titles\n",
    "ax.set_title(\"Model Performance Comparison on Original vs Augmented Dataset\", fontsize=14)\n",
    "ax.set_xlabel(\"Model\", fontsize=12)\n",
    "ax.set_ylabel(\"Score\", fontsize=12)\n",
    "ax.set_xticks(x)\n",
    "ax.set_xticklabels(original_data[\"Model\"], rotation=45, ha=\"right\")\n",
    "ax.legend(title=\"Performance Metrics\", bbox_to_anchor=(1.05, 1), loc='upper left')\n",
    "\n",
    "# Show the plot\n",
    "plt.tight_layout()\n",
    "plt.show()\n",
    "next\n",
    "import seaborn as sns\n",
    "import matplotlib.pyplot as plt\n",
    "\n",
    "# Plot metrics for stress testing results\n",
    "fig, ax = plt.subplots(2, 2, figsize=(16, 12))\n",
    "metrics = [\"Accuracy\", \"Precision\", \"Recall\", \"F1 Score\"]\n",
    "axes = ax.ravel()\n",
    "\n",
    "for i, metric in enumerate(metrics):\n",
    "    sns.barplot(data=df_stress_results, x=\"Model\", y=metric, hue=\"Anomaly Type\", ax=axes[i])\n",
    "    axes[i].set_title(f\"Model Performance on Stress Test - {metric}\")\n",
    "    axes[i].set_xticklabels(axes[i].get_xticklabels(), rotation=45, ha='right')\n",
    "\n",
    "plt.tight_layout()\n",
    "plt.show()\n"
   ]
  }
 ],
 "metadata": {
  "kernelspec": {
   "display_name": "Python 3 (ipykernel)",
   "language": "python",
   "name": "python3"
  },
  "language_info": {
   "codemirror_mode": {
    "name": "ipython",
    "version": 3
   },
   "file_extension": ".py",
   "mimetype": "text/x-python",
   "name": "python",
   "nbconvert_exporter": "python",
   "pygments_lexer": "ipython3",
   "version": "3.11.3"
  }
 },
 "nbformat": 4,
 "nbformat_minor": 5
}
