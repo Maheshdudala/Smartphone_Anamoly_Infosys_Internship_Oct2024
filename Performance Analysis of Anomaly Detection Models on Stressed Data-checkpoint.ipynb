{
 "cells": [
  {
   "cell_type": "code",
   "execution_count": null,
   "id": "de684469",
   "metadata": {},
   "outputs": [],
   "source": [
    "### Task 2: Track Changes in Model Detection Rates under Stress Conditions\n",
    "\n",
    "This part applies both **Isolation Forest** and **Local Outlier Factor (LOF)** on the stressed dataset to evaluate detection rates under high-frequency stress conditions.\n",
    "# Set up models for stress-tested data\n",
    "iso_forest = IsolationForest(contamination=0.05, n_estimators=200, max_samples=0.75, random_state=42)\n",
    "lof = LocalOutlierFactor(n_neighbors=20, contamination=0.05, novelty=False)\n",
    "\n",
    "# Train Isolation Forest and make predictions\n",
    "iso_forest.fit(df_stressed[features])\n",
    "iso_preds = iso_forest.predict(df_stressed[features])\n",
    "iso_preds = (iso_preds == -1).astype(int)  # Convert to binary format: 1 for anomaly, 0 for normal\n",
    "\n",
    "# Track Isolation Forest detection rates\n",
    "iso_accuracy = accuracy_score(df_stressed['label'], iso_preds)\n",
    "iso_precision = precision_score(df_stressed['label'], iso_preds)\n",
    "iso_recall = recall_score(df_stressed['label'], iso_preds)\n",
    "iso_f1 = f1_score(df_stressed['label'], iso_preds)\n",
    "\n",
    "print(\"\\nIsolation Forest - Detection Rates on Stressed Data:\")\n",
    "print(f\"Accuracy: {iso_accuracy:.4f}, Precision: {iso_precision:.4f}, Recall: {iso_recall:.4f}, F1 Score: {iso_f1:.4f}\")\n",
    "\n",
    "# Apply LOF and make predictions\n",
    "lof_preds = lof.fit_predict(df_stressed[features])\n",
    "lof_preds = (lof_preds == -1).astype(int)  # Convert to binary format\n",
    "\n",
    "# Track LOF detection rates\n",
    "lof_accuracy = accuracy_score(df_stressed['label'], lof_preds)\n",
    "lof_precision = precision_score(df_stressed['label'], lof_preds)\n",
    "lof_recall = recall_score(df_stressed['label'], lof_preds)\n",
    "lof_f1 = f1_score(df_stressed['label'], lof_preds)\n",
    "\n",
    "print(\"\\nLocal Outlier Factor (LOF) - Detection Rates on Stressed Data:\")\n",
    "print(f\"Accuracy: {lof_accuracy:.4f}, Precision: {lof_precision:.4f}, Recall: {lof_recall:.4f}, F1 Score: {lof_f1:.4f}\")\n"
   ]
  }
 ],
 "metadata": {
  "kernelspec": {
   "display_name": "Python 3 (ipykernel)",
   "language": "python",
   "name": "python3"
  },
  "language_info": {
   "codemirror_mode": {
    "name": "ipython",
    "version": 3
   },
   "file_extension": ".py",
   "mimetype": "text/x-python",
   "name": "python",
   "nbconvert_exporter": "python",
   "pygments_lexer": "ipython3",
   "version": "3.11.3"
  }
 },
 "nbformat": 4,
 "nbformat_minor": 5
}
