{
 "cells": [
  {
   "cell_type": "code",
   "execution_count": null,
   "id": "32593e1b",
   "metadata": {},
   "outputs": [],
   "source": [
    "# Incorporate Enhanced Synthetic Data into Model Testing\n",
    "\n",
    "This code incorporates the enhanced anomalies into the Isolation Forest model and tests its performance.\n",
    "from sklearn.ensemble import IsolationForest\n",
    "\n",
    "# Set up Isolation Forest with previously tested optimal parameters\n",
    "iso_forest_enhanced = IsolationForest(contamination=0.05, max_samples=0.75, n_estimators=100, random_state=42)\n",
    "iso_forest_enhanced.fit(df_enhanced.drop(columns='label'))\n",
    "\n",
    "# Predict anomalies in the enhanced dataset\n",
    "df_enhanced['IsoForest_Enhanced_Anomaly'] = iso_forest_enhanced.predict(df_enhanced.drop(columns='label'))\n",
    "df_enhanced['IsoForest_Enhanced_Anomaly'] = np.where(df_enhanced['IsoForest_Enhanced_Anomaly'] == -1, 1, 0)\n",
    "\n",
    "next \n",
    "import matplotlib.pyplot as plt\n",
    "\n",
    "# Adding model predictions to the dataset for visualization\n",
    "augmented_data['IF_Anomaly'] = iso_predictions\n",
    "augmented_data['LOF_Anomaly'] = lof_predictions\n",
    "\n",
    "# Plot anomalies detected by Isolation Forest\n",
    "plt.figure(figsize=(12, 6))\n",
    "plt.scatter(augmented_data.index, augmented_data['Total_Acc'], c=augmented_data['IF_Anomaly'], cmap='coolwarm', label='Isolation Forest Anomalies')\n",
    "plt.xlabel('Data Index')\n",
    "plt.ylabel('Total_Acc')\n",
    "plt.title('Isolation Forest - Anomaly Detection')\n",
    "plt.legend()\n",
    "plt.show()\n",
    "\n",
    "# Plot anomalies detected by Local Outlier Factor\n",
    "plt.figure(figsize=(12, 6))\n",
    "plt.scatter(augmented_data.index, augmented_data['Total_Acc'], c=augmented_data['LOF_Anomaly'], cmap='viridis', label='LOF Anomalies')\n",
    "plt.xlabel('Data Index')\n",
    "plt.ylabel('Total_Acc')\n",
    "plt.title('Local Outlier Factor (LOF) - Anomaly Detection')\n",
    "plt.legend()\n",
    "plt.show()\n",
    "next\n",
    "# Plot both models for comparison\n",
    "plt.figure(figsize=(12, 6))\n",
    "plt.scatter(augmented_data.index, augmented_data['Total_Acc'], c=augmented_data['IF_Anomaly'], cmap='coolwarm', marker='o', label='IF Anomalies', alpha=0.6)\n",
    "plt.scatter(augmented_data.index, augmented_data['Total_Acc'], c=augmented_data['LOF_Anomaly'], cmap='viridis', marker='x', label='LOF Anomalies', alpha=0.3)\n",
    "plt.xlabel('Data Index')\n",
    "plt.ylabel('Total_Acc')\n",
    "plt.title('Comparison of Anomaly Detection Results (IF vs LOF)')\n",
    "plt.legend()\n",
    "plt.show()\n"
   ]
  }
 ],
 "metadata": {
  "kernelspec": {
   "display_name": "Python 3 (ipykernel)",
   "language": "python",
   "name": "python3"
  },
  "language_info": {
   "codemirror_mode": {
    "name": "ipython",
    "version": 3
   },
   "file_extension": ".py",
   "mimetype": "text/x-python",
   "name": "python",
   "nbconvert_exporter": "python",
   "pygments_lexer": "ipython3",
   "version": "3.11.3"
  }
 },
 "nbformat": 4,
 "nbformat_minor": 5
}
