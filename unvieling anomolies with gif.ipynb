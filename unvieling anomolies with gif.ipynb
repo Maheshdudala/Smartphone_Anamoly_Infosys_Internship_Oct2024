{
 "cells": [
  {
   "cell_type": "code",
   "execution_count": null,
   "id": "f3549e72",
   "metadata": {},
   "outputs": [],
   "source": [
    "import matplotlib.pyplot as plt\n",
    "import matplotlib.animation as animation\n",
    "import seaborn as sns\n",
    "\n",
    "# Define columns for x-axis and y-axis in the simulation\n",
    "x_axis_column = 'Total_Acc'  # Using Total_Acc as the x-axis\n",
    "y_axis_column = 'Anomaly_Score'  # Assuming Anomaly_Score is already calculated\n",
    "\n",
    "# Ensure augmented_data is sorted by x-axis column if it represents progression\n",
    "augmented_data = augmented_data.sort_values(by=x_axis_column)\n",
    "\n",
    "# Identify anomalies\n",
    "anomalies = augmented_data[augmented_data['anomaly'] == 1]  # Adjust flag column name as needed\n",
    "\n",
    "# Initialize plot\n",
    "fig, ax = plt.subplots(figsize=(10, 5))\n",
    "sns.lineplot(x=augmented_data[x_axis_column], y=augmented_data[y_axis_column], ax=ax, label=\"Anomaly Score\")\n",
    "\n",
    "# Frame skip value\n",
    "frame_skip = 500\n",
    "\n",
    "# Update function for animation\n",
    "def update(frame):\n",
    "    ax.clear()\n",
    "    frame_index = frame * frame_skip  # Calculate the index to skip frames\n",
    "    if frame_index < len(augmented_data):  # Ensure the index does not exceed the data length\n",
    "        sns.lineplot(x=augmented_data[x_axis_column].iloc[:frame_index], \n",
    "                     y=augmented_data[y_axis_column].iloc[:frame_index], ax=ax, label=\"Anomaly Score\")\n",
    "        sns.scatterplot(x=anomalies[x_axis_column], \n",
    "                        y=anomalies[y_axis_column], color='red', marker='o', s=30, label='Detected Anomaly', ax=ax)\n",
    "    ax.set_title(\"Anomaly Detection Over Total Acceleration\")\n",
    "    ax.set_xlabel(x_axis_column)\n",
    "    ax.set_ylabel(y_axis_column)\n",
    "    ax.legend()\n",
    "    ax.set_xlim(augmented_data[x_axis_column].min(), augmented_data[x_axis_column].max())  # Dynamic x-limits\n",
    "\n",
    "# Create the animation with a faster interval and frame skipping\n",
    "ani = animation.FuncAnimation(fig, update, frames=len(augmented_data) // frame_skip, interval=50)  # Reduced interval for faster animation\n",
    "plt.show()\n",
    "\n",
    "# Save animation if needed\n",
    "ani.save(\"anomaly_detection_simulation_total_acc.gif\", writer='pillow')\n",
    "\n",
    "from IPython.display import Image, display\n",
    "\n",
    "# Display the GIF\n",
    "display(Image(filename=\"anomaly_detection_simulation_total_acc.gif\"))\n"
   ]
  }
 ],
 "metadata": {
  "kernelspec": {
   "display_name": "Python 3 (ipykernel)",
   "language": "python",
   "name": "python3"
  },
  "language_info": {
   "codemirror_mode": {
    "name": "ipython",
    "version": 3
   },
   "file_extension": ".py",
   "mimetype": "text/x-python",
   "name": "python",
   "nbconvert_exporter": "python",
   "pygments_lexer": "ipython3",
   "version": "3.11.3"
  }
 },
 "nbformat": 4,
 "nbformat_minor": 5
}
