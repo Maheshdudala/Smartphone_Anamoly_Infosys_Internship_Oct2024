{
 "cells": [
  {
   "cell_type": "code",
   "execution_count": 1,
   "id": "c54d42f7-8b64-4725-be24-7e66a40dcf43",
   "metadata": {},
   "outputs": [
    {
     "name": "stdout",
     "output_type": "stream",
     "text": [
      "Estimators: 50, Anomalies Detected: 713\n",
      "Estimators: 100, Anomalies Detected: 711\n",
      "Estimators: 200, Anomalies Detected: 713\n",
      "\n",
      "Summary of anomalies detected for different numbers of estimators:\n",
      "Estimators: 50 - Anomalies Detected: 713\n",
      "Estimators: 100 - Anomalies Detected: 711\n",
      "Estimators: 200 - Anomalies Detected: 713\n"
     ]
    }
   ],
   "source": [
    "import pandas as pd\n",
    "import numpy as np\n",
    "from sklearn.ensemble import IsolationForest\n",
    "\n",
    "data_path = 'final_adjusted_crowd_dataset.csv'\n",
    "df = pd.read_csv(data_path)\n",
    "\n",
    "df = pd.get_dummies(df, drop_first=True)\n",
    "df = df.dropna()\n",
    "\n",
    "X = df.drop(columns=['label'])\n",
    "\n",
    "estimator_counts = [50, 100, 200]\n",
    "anomalies_by_estimators = {}\n",
    "\n",
    "for n_estimators in estimator_counts:\n",
    "    iso_forest = IsolationForest(n_estimators=n_estimators, contamination=0.05, random_state=42)\n",
    "    iso_forest.fit(X)\n",
    "    y_pred = iso_forest.predict(X)\n",
    "    anomalies_count = np.sum(y_pred == -1)\n",
    "    anomalies_by_estimators[n_estimators] = anomalies_count\n",
    "    print(f\"Estimators: {n_estimators}, Anomalies Detected: {anomalies_count}\")\n",
    "\n",
    "print(\"\\nSummary of anomalies detected for different numbers of estimators:\")\n",
    "for n_estimators, count in anomalies_by_estimators.items():\n",
    "    print(f\"Estimators: {n_estimators} - Anomalies Detected: {count}\")\n"
   ]
  },
  {
   "cell_type": "code",
   "execution_count": null,
   "id": "dbd6dad1-7eef-4e4d-aff0-85a1569cdf99",
   "metadata": {},
   "outputs": [],
   "source": []
  }
 ],
 "metadata": {
  "kernelspec": {
   "display_name": "Python 3 (ipykernel)",
   "language": "python",
   "name": "python3"
  },
  "language_info": {
   "codemirror_mode": {
    "name": "ipython",
    "version": 3
   },
   "file_extension": ".py",
   "mimetype": "text/x-python",
   "name": "python",
   "nbconvert_exporter": "python",
   "pygments_lexer": "ipython3",
   "version": "3.12.4"
  }
 },
 "nbformat": 4,
 "nbformat_minor": 5
}
