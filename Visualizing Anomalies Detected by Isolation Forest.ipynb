{
 "cells": [
  {
   "cell_type": "code",
   "execution_count": null,
   "id": "479b057e",
   "metadata": {},
   "outputs": [],
   "source": [
    "import matplotlib.pyplot as plt\n",
    "\n",
    "# Adding model predictions to the dataset for visualization\n",
    "augmented_data['IF_Anomaly'] = iso_predictions\n",
    "augmented_data['LOF_Anomaly'] = lof_predictions\n",
    "\n",
    "# Plot anomalies detected by Isolation Forest\n",
    "plt.figure(figsize=(12, 6))\n",
    "plt.scatter(augmented_data.index, augmented_data['Total_Acc'],\n",
    "            c=augmented_data['IF_Anomaly'], cmap='coolwarm',\n",
    "            label='Isolation Forest Anomalies')\n",
    "plt.xlabel('Data Index')\n",
    "plt.ylabel('Total_Acc')\n",
    "plt.title('Isolation Forest - Anomaly Detection')\n",
    "plt.legend()\n",
    "plt.show()"
   ]
  }
 ],
 "metadata": {
  "kernelspec": {
   "display_name": "Python 3 (ipykernel)",
   "language": "python",
   "name": "python3"
  },
  "language_info": {
   "codemirror_mode": {
    "name": "ipython",
    "version": 3
   },
   "file_extension": ".py",
   "mimetype": "text/x-python",
   "name": "python",
   "nbconvert_exporter": "python",
   "pygments_lexer": "ipython3",
   "version": "3.11.3"
  }
 },
 "nbformat": 4,
 "nbformat_minor": 5
}
