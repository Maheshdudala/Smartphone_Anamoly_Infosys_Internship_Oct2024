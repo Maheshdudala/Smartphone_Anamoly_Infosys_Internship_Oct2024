{
 "cells": [
  {
   "cell_type": "code",
   "execution_count": null,
   "id": "6d604dfa",
   "metadata": {},
   "outputs": [],
   "source": [
    ". Analyze False Positives and False Negatives, Suggest Threshold Improvements\n",
    "# Evaluate false positives and false negatives for IQR and Z-score methods\n",
    "def evaluate_outliers(df, column, iqr_multiplier=1.5, z_threshold=3):\n",
    "    iqr_out = iqr_outliers(df, column, iqr_multiplier)\n",
    "    z_out = z_score_outliers(df, column, z_threshold)\n",
    "    \n",
    "    common_outliers = pd.merge(iqr_out, z_out, how='inner', on=df.columns.tolist())\n",
    "    \n",
    "    # False Positives and False Negatives\n",
    "    false_positives_iqr = iqr_out[~iqr_out.index.isin(z_out.index)]  # Outliers by IQR but not Z-score\n",
    "    false_negatives_iqr = df[(~df.index.isin(iqr_out.index)) & (df.index.isin(z_out.index))]  # Z-score outliers missed by IQR\n",
    "    \n",
    "    false_positives_z = z_out[~z_out.index.isin(iqr_out.index)]  # Outliers by Z-score but not IQR\n",
    "    false_negatives_z = df[(~df.index.isin(z_out.index)) & (df.index.isin(iqr_out.index))]  # IQR outliers missed by Z-score\n",
    "\n",
    "    return {\n",
    "        'common_outliers': len(common_outliers),\n",
    "        'false_positives_iqr': len(false_positives_iqr),\n",
    "        'false_negatives_iqr': len(false_negatives_iqr),\n",
    "        'false_positives_z': len(false_positives_z),\n",
    "        'false_negatives_z': len(false_negatives_z)\n",
    "    }\n",
    "\n",
    "# Analyze each feature for false positives/negatives\n",
    "for feature in key_features:\n",
    "    results = evaluate_outliers(df, feature, iqr_multiplier=2.0, z_threshold=2.5)\n",
    "\n",
    "    print(f\"--- {feature} Outlier Evaluation ---\")\n",
    "    print(f\"Common Outliers: {results['common_outliers']}\")\n",
    "    print(f\"False Positives (IQR): {results['false_positives_iqr']}\")\n",
    "    print(f\"False Negatives (IQR): {results['false_negatives_iqr']}\")\n",
    "    print(f\"False Positives (Z-score): {results['false_positives_z']}\")\n",
    "    print(f\"False Negatives (Z-score): {results['false_negatives_z']}\")\n",
    "    print(\"\\n\")\n",
    "\n",
    "# Suggest improvements or threshold adjustments based on the analysis\n",
    "# Example: Lower Z-score threshold or IQR multiplier to reduce false negatives\n",
    "print(\"Suggestion: Consider lowering Z-score threshold further or tuning IQR multiplier.\")\n",
    "Part 3d.iv: Suggest Improvements or Adjustments to the Thresholds Used in IQR and Z-Score\n"
   ]
  }
 ],
 "metadata": {
  "kernelspec": {
   "display_name": "Python 3 (ipykernel)",
   "language": "python",
   "name": "python3"
  },
  "language_info": {
   "codemirror_mode": {
    "name": "ipython",
    "version": 3
   },
   "file_extension": ".py",
   "mimetype": "text/x-python",
   "name": "python",
   "nbconvert_exporter": "python",
   "pygments_lexer": "ipython3",
   "version": "3.11.3"
  }
 },
 "nbformat": 4,
 "nbformat_minor": 5
}
