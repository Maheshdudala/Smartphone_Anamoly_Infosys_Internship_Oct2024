{
 "cells": [
  {
   "cell_type": "code",
   "execution_count": null,
   "id": "ee81e07e-c8ce-4447-8d57-99197388fe23",
   "metadata": {
    "scrolled": true
   },
   "outputs": [],
   "source": [
    "import pandas as pd\n",
    "from sklearn.neighbors import LocalOutlierFactor\n",
    "from sklearn.model_selection import GridSearchCV\n",
    "\n",
    "data_path = 'final_adjusted_crowd_dataset.csv'\n",
    "df = pd.read_csv(data_path)\n",
    "\n",
    "df = pd.get_dummies(df, drop_first=True)\n",
    "df = df.dropna()\n",
    "\n",
    "X_train = df.drop(columns=['label'])\n",
    "y_train = df['label']\n",
    "\n",
    "lof = LocalOutlierFactor()\n",
    "\n",
    "param_grid = {\n",
    "    'n_neighbors': [5, 10, 20, 50],\n",
    "    'contamination': [0.01, 0.05, 0.1],\n",
    "    'leaf_size': [30, 50, 100]\n",
    "}\n",
    "\n",
    "grid_search = GridSearchCV(lof, param_grid, scoring='f1', cv=5)\n",
    "grid_search.fit(X_train, y_train)\n",
    "\n",
    "best_params = grid_search.best_params_\n",
    "print(f\"Best hyperparameters: {best_params}\")\n"
   ]
  },
  {
   "cell_type": "code",
   "execution_count": null,
   "id": "fda4a223-8f3c-494b-bcc7-b9bb09f40369",
   "metadata": {},
   "outputs": [],
   "source": []
  },
  {
   "cell_type": "code",
   "execution_count": null,
   "id": "b6157495-ece9-45b4-af03-3f52b427172d",
   "metadata": {},
   "outputs": [],
   "source": []
  }
 ],
 "metadata": {
  "kernelspec": {
   "display_name": "Python 3 (ipykernel)",
   "language": "python",
   "name": "python3"
  },
  "language_info": {
   "codemirror_mode": {
    "name": "ipython",
    "version": 3
   },
   "file_extension": ".py",
   "mimetype": "text/x-python",
   "name": "python",
   "nbconvert_exporter": "python",
   "pygments_lexer": "ipython3",
   "version": "3.12.4"
  }
 },
 "nbformat": 4,
 "nbformat_minor": 5
}
