{
 "cells": [
  {
   "cell_type": "code",
   "execution_count": null,
   "id": "15edbe2c",
   "metadata": {},
   "outputs": [],
   "source": [
    "import pandas as pd\n",
    "import matplotlib.pyplot as plt\n",
    "import numpy as np\n",
    "\n",
    "# Data for Model Performance\n",
    "model_performance_data = {\n",
    "    \"Model\": [\n",
    "        \"Random Forest\", \"Logistic Regression\", \"K-Nearest Neighbors\", \n",
    "        \"Support Vector Machine\", \"Gradient Boosting\", \"XGBoost\", \n",
    "        \"Naive Bayes\", \"Decision Tree\",\"Random Forest\", \"Logistic Regression\", \"K-Nearest Neighbors\", \n",
    "        \"Support Vector Machine\", \"Gradient Boosting\", \"XGBoost\", \n",
    "        \"Naive Bayes\", \"Decision Tree\"\n",
    "    ],\n",
    "    \"Dataset\": [\n",
    "        \"Original\", \"Original\", \"Original\", \"Original\", \"Original\", \"Original\", \"Original\", \"Original\",\n",
    "        \"Augmented\", \"Augmented\", \"Augmented\", \"Augmented\", \"Augmented\", \"Augmented\", \"Augmented\", \"Augmented\"\n",
    "    ],\n",
    "    \"Accuracy\": [\n",
    "        0.9844, 0.8641, 1.0, 0.8756, 0.9799, 0.9176, 0.6392, 0.9850,\n",
    "        0.4043, 0.4246, 0.4094, 0.4325, 0.4021, 0.3492, 0.7294, 0.4045\n",
    "    ],\n",
    "    \"Precision\": [\n",
    "        0.9828, 0.8957, 1.0, 0.9096, 0.9774, 0.8904, 0.9253, 0.9831,\n",
    "        0.0077, 0.0078, 0.0081, 0.0121, 0.0077, 0.0077, 0.0251, 0.0086\n",
    "    ],\n",
    "    \"Recall\": [\n",
    "        0.9910, 0.8722, 1.0, 0.8773, 0.9891, 0.9818, 0.4255, 0.9918,\n",
    "        0.66, 0.65, 0.69, 1.0, 0.66, 0.72, 1.0, 0.74\n",
    "    ],\n",
    "    \"F1 Score\": [\n",
    "        0.9869, 0.8838, 1.0, 0.8932, 0.9832, 0.9339, 0.5829, 0.9874,\n",
    "        0.0152, 0.0155, 0.0160, 0.0240, 0.0152, 0.0152, 0.0490, 0.0170\n",
    "    ]\n",
    "}\n",
    "\n",
    "# Convert to DataFrame\n",
    "df_performance = pd.DataFrame(model_performance_data)\n",
    "\n"
   ]
  }
 ],
 "metadata": {
  "kernelspec": {
   "display_name": "Python 3 (ipykernel)",
   "language": "python",
   "name": "python3"
  },
  "language_info": {
   "codemirror_mode": {
    "name": "ipython",
    "version": 3
   },
   "file_extension": ".py",
   "mimetype": "text/x-python",
   "name": "python",
   "nbconvert_exporter": "python",
   "pygments_lexer": "ipython3",
   "version": "3.11.3"
  }
 },
 "nbformat": 4,
 "nbformat_minor": 5
}
