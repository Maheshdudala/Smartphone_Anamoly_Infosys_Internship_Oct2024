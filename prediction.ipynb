{
 "cells": [
  {
   "cell_type": "code",
   "execution_count": 1,
   "id": "271af730-69c7-4479-be04-8b23b1cb8a3c",
   "metadata": {},
   "outputs": [
    {
     "name": "stdout",
     "output_type": "stream",
     "text": [
      "Max Samples: 0.5\n",
      "  F1-Score: 0.09173310036038004\n",
      "  Precision: 0.5890603085553997\n",
      "  Recall: 0.04973945997157745\n",
      "  Accuracy: 0.4163099164853674\n",
      "  Runtime (seconds): 2.6325387954711914\n",
      "\n",
      "Max Samples: 0.75\n",
      "  F1-Score: 0.09151468821666485\n",
      "  Precision: 0.5876577840112202\n",
      "  Recall: 0.049621032685930835\n",
      "  Accuracy: 0.41616955575829884\n",
      "  Runtime (seconds): 2.903280735015869\n",
      "\n",
      "Max Samples: 1.0\n",
      "  F1-Score: 0.09675657966582941\n",
      "  Precision: 0.6213183730715287\n",
      "  Recall: 0.05246328754144955\n",
      "  Accuracy: 0.41953821320794443\n",
      "  Runtime (seconds): 3.289877414703369\n",
      "\n"
     ]
    }
   ],
   "source": [
    "import pandas as pd\n",
    "import numpy as np\n",
    "import time\n",
    "from sklearn.ensemble import IsolationForest\n",
    "from sklearn.metrics import f1_score, precision_score, recall_score, accuracy_score\n",
    "\n",
    "data_path = 'final_adjusted_crowd_dataset.csv'\n",
    "df = pd.read_csv(data_path)\n",
    "\n",
    "df = pd.get_dummies(df, drop_first=True)\n",
    "df = df.dropna()\n",
    "\n",
    "X = df.drop(columns=['label'])\n",
    "\n",
    "max_samples_values = [0.5, 0.75, 1.0]\n",
    "max_samples_results = {}\n",
    "\n",
    "for max_samples in max_samples_values:\n",
    "    start_time = time.time()\n",
    "    iso_forest = IsolationForest(contamination=0.05, max_samples=max_samples, random_state=42)\n",
    "    iso_forest.fit(X)\n",
    "    y_pred = np.where(iso_forest.predict(X) == -1, 1, 0)\n",
    "    f1 = f1_score(df['label'], y_pred)\n",
    "    precision = precision_score(df['label'], y_pred)\n",
    "    recall = recall_score(df['label'], y_pred)\n",
    "    accuracy = accuracy_score(df['label'], y_pred)\n",
    "    runtime = time.time() - start_time\n",
    "    max_samples_results[max_samples] = {\n",
    "        'F1-Score': f1,\n",
    "        'Precision': precision,\n",
    "        'Recall': recall,\n",
    "        'Accuracy': accuracy,\n",
    "        'Runtime (seconds)': runtime\n",
    "    }\n",
    "\n",
    "for max_samples, metrics in max_samples_results.items():\n",
    "    print(f\"Max Samples: {max_samples}\")\n",
    "    for metric, value in metrics.items():\n",
    "        print(f\"  {metric}: {value}\")\n",
    "    print()\n"
   ]
  },
  {
   "cell_type": "code",
   "execution_count": null,
   "id": "d41b1153-4275-4e35-b2e6-c5154f19b040",
   "metadata": {},
   "outputs": [],
   "source": []
  }
 ],
 "metadata": {
  "kernelspec": {
   "display_name": "Python 3 (ipykernel)",
   "language": "python",
   "name": "python3"
  },
  "language_info": {
   "codemirror_mode": {
    "name": "ipython",
    "version": 3
   },
   "file_extension": ".py",
   "mimetype": "text/x-python",
   "name": "python",
   "nbconvert_exporter": "python",
   "pygments_lexer": "ipython3",
   "version": "3.12.4"
  }
 },
 "nbformat": 4,
 "nbformat_minor": 5
}
